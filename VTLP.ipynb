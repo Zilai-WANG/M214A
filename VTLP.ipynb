{
  "cells": [
    {
      "cell_type": "markdown",
      "metadata": {
        "id": "iUGt3c3glZcm"
      },
      "source": [
        "##ECE M214A Project: Speaker Region Identification\n",
        "\n"
      ]
    },
    {
      "cell_type": "markdown",
      "metadata": {
        "id": "U45DldLRvjGB"
      },
      "source": [
        "In this project, we'll train a machine learning algorithm to classify speakers by regional dialect.  We will use speech samples from the Corpus of Regional African American Language (CORAAL - https://oraal.uoregon.edu/coraal) with speakers each belonging to one of five different US cities: 1) Rochester, NY (ROC), 2) Lower East Side, Manhattan, NY (LES), 3) Washington DC (DCB), 4) Princeville, NC (PRV), or 5) Valdosta, GA (VLD).\n",
        "\n",
        "The project files can be downloaded from [this link](https://ucla.box.com/s/d6durcy98r1ti6n97vu0u13pdg2i7xmh)\n",
        "\n",
        "To do this, we will first extract features from the audio files and then train a classifier to predict the city of origin of the utterance's speaker.  The goal is to extract a feature that contains useful information about regional dialect characteristics."
      ]
    },
    {
      "cell_type": "markdown",
      "metadata": {
        "id": "3ZGgwhT7lsNZ"
      },
      "source": [
        "##1. Setting up the data directories and Google Colab"
      ]
    },
    {
      "cell_type": "markdown",
      "metadata": {
        "id": "zSI8N_Imwiwz"
      },
      "source": [
        "Store a copy of the project files in your google drive.\n",
        "\n",
        "Make sure that the 'project_data' folder is stored in the top level of your google drive. Otherwise, you will need to change the corresponding paths in the remainder of the notebook."
      ]
    },
    {
      "cell_type": "markdown",
      "metadata": {
        "id": "srmiFaC9xSw4"
      },
      "source": [
        "Mount your google drive. This will give this notebook read/write access to data stored in your google drive.  You can either do this in the file browser on the left side of this notebook or by running the code snippet below.\n",
        "\n",
        "It is recommended that you use your UCLA google account for this project, as it has more storage than a standard google account."
      ]
    },
    {
      "cell_type": "markdown",
      "metadata": {
        "id": "OUKk6flWvYVB"
      },
      "source": [
        "To run this project on your local system, replace the corresponding file paths to the locations of the project files on your local machine"
      ]
    },
    {
      "cell_type": "markdown",
      "metadata": {
        "id": "hon860bcmLDD"
      },
      "source": [
        "## 2. Getting familiar with the data"
      ]
    },
    {
      "cell_type": "markdown",
      "metadata": {
        "id": "UaEIHyQByAiy"
      },
      "source": [
        "\n",
        "Let's take a moment to understand the data.  The original CORAAL dataset consists of ~85 different speakers, each from one of five cities.  The audio files are names with the convention: DCB_se1_ag1_f_03.  Here, DCB is the city code, se1 denotes the socioeconomic group of the speaker, ag1 denotes the age group of the speaker, f denotes female, and 03 denotes the participant number.  These unique combinations of identifiers mark the speaker.  \n",
        "\n",
        "The dataset has been preprocessed to only include audio segments greater than 10 seconds in length. there are a number of audio snippets of at least 10sec in length.  Those segments are numbered with the appending tag _seg_number for each segment.\n",
        "\n",
        "You can also try listening to any segment like this:"
      ]
    },
    {
      "cell_type": "markdown",
      "metadata": {
        "id": "3Uu12stenzcx"
      },
      "source": [
        "## 3. Feature Extraction"
      ]
    },
    {
      "cell_type": "markdown",
      "metadata": {
        "id": "3QpW8VRs9t_c"
      },
      "source": [
        "As a baseline, we will be using the average mfcc value over time from the Librosa Python library. Your job will be to choose better features to improve performance on both the clean and noisy data"
      ]
    },
    {
      "cell_type": "markdown",
      "metadata": {
        "id": "zNEtHr-TapYg"
      },
      "source": [
        "We first define a pair of functions to create features and labels for our classification model:\n"
      ]
    },
    {
      "cell_type": "code",
      "execution_count": 148,
      "metadata": {
        "id": "O8nOljY9x9Bo"
      },
      "outputs": [],
      "source": [
        "import librosa\n",
        "import torchaudio\n",
        "import numpy as np\n",
        "from glob import glob\n",
        "from tqdm import tqdm\n",
        "\n",
        "\n",
        "import numpy as np\n",
        "import librosa\n",
        "import scipy.signal\n",
        "\n",
        "def warp_frequency_axis(spectrogram, sr,alpha):\n",
        "    \"\"\"\n",
        "    Warps the frequency axis of a spectrogram according to a given alpha value for VTLP.\n",
        "    \n",
        "    Parameters:\n",
        "    - spectrogram: The input spectrogram.\n",
        "    - alpha: The warping factor. Values less than 1 will shorten the vocal tract, \n",
        "             and values greater than 1 will lengthen it.\n",
        "    - sr: Sampling rate of the original audio.\n",
        "    \n",
        "    Returns:\n",
        "    - Warped spectrogram.\n",
        "    \"\"\"\n",
        "    num_mel_bins = spectrogram.shape[0]\n",
        "    mel_frequencies = librosa.mel_frequencies(n_mels=num_mel_bins, fmax=sr / 2)\n",
        "    # Warping function can vary, here we simply scale mel frequencies by alpha\n",
        "    warped_mel_frequencies = mel_frequencies * alpha\n",
        "    \n",
        "    # Interpolate to apply warping\n",
        "    interpolation = scipy.interpolate.interp1d(warped_mel_frequencies, mel_frequencies, bounds_error=False, fill_value=\"extrapolate\")\n",
        "    warped_indices = interpolation(np.arange(num_mel_bins))\n",
        "    \n",
        "    warped_spectrogram = np.zeros_like(spectrogram)\n",
        "    for i in range(spectrogram.shape[1]):  # For each time step\n",
        "        warped_spectrogram[:, i] = np.interp(np.arange(num_mel_bins), warped_indices, spectrogram[:, i])\n",
        "    \n",
        "    return warped_spectrogram\n",
        "\n",
        "def extract_feature(audio_file, alpha=0.8, n_mfcc=13,augment = True):\n",
        "    \"\"\"\n",
        "    Applies VTLP and extracts MFCC features from an audio signal.\n",
        "    \n",
        "    Parameters:\n",
        "    - audio: The input audio signal.\n",
        "    - sr: Sampling rate of the audio signal.\n",
        "    - alpha: VTLP warping factor.\n",
        "    - n_mfcc: Number of MFCC features to extract.\n",
        "    \n",
        "    Returns:\n",
        "    - mfccs: Extracted MFCC features.\n",
        "    \"\"\"\n",
        "    audio,fs = torchaudio.load(audio_file)\n",
        "    audio = audio.numpy().reshape(-1)\n",
        "\n",
        "    mfccs = librosa.feature.mfcc(y=audio, sr=fs, n_mfcc=13)\n",
        "    feat_out = np.mean(mfccs,axis=1)\n",
        "    if(augment == True):\n",
        "      # Compute the spectrogram (or mel spectrogram)\n",
        "      S = librosa.feature.melspectrogram(y=audio, sr=fs, n_mels=128)\n",
        "      log_S = librosa.power_to_db(S, ref=np.max)\n",
        "      \n",
        "      # Apply frequency axis warping for VTLP\n",
        "      warped_log_S = warp_frequency_axis(log_S, fs,alpha)\n",
        "      \n",
        "      # Extract MFCCs from the warped spectrogram\n",
        "      mfccs = librosa.feature.mfcc(S=librosa.db_to_power(warped_log_S), sr=fs, n_mfcc=n_mfcc)\n",
        "      feat_out_augment = np.mean(mfccs,axis=1)\n",
        "      return feat_out, feat_out_augment\n",
        "      \n",
        "    \n",
        "    return feat_out\n",
        "\n",
        "\n",
        "\n",
        "\n",
        "\n"
      ]
    },
    {
      "cell_type": "code",
      "execution_count": 149,
      "metadata": {},
      "outputs": [],
      "source": [
        "def get_label(file_name):\n",
        "  '''\n",
        "  Function to retrieve output labels from filenames\n",
        "  '''\n",
        "  if 'ROC' in file_name:\n",
        "    label=0\n",
        "  elif 'LES' in file_name:\n",
        "    label=1\n",
        "  elif 'DC' in file_name:\n",
        "    label=2\n",
        "  elif 'PRV' in file_name:\n",
        "    label=3\n",
        "  elif 'VLD' in file_name:\n",
        "    label=4\n",
        "  else:\n",
        "    raise ValueError('invalid file name')\n",
        "  return label"
      ]
    },
    {
      "cell_type": "markdown",
      "metadata": {
        "id": "ZAe_LnvKbCO_"
      },
      "source": [
        "Let us now call these functions to extract the features and labels from the train_clean directory"
      ]
    },
    {
      "cell_type": "code",
      "execution_count": 150,
      "metadata": {
        "colab": {
          "base_uri": "https://localhost:8080/"
        },
        "id": "4XdmLAGFYkaG",
        "outputId": "397e671a-1ba1-4307-f653-4f826419afc6"
      },
      "outputs": [],
      "source": [
        "\n",
        "# #First we obtain the list of all files in the train_clean directory\n",
        "# train_files = glob('/Users/zilaiwang/Documents/214-proj/W24_ECE_M214A_Project/project_data/train_clean/*.wav')\n",
        "\n",
        "# #Let's sort it so that we're all using the same file list order\n",
        "# #and you can continue processing the features from a given file if it stops\n",
        "# #partway through running\n",
        "# train_files.sort()\n",
        "\n",
        "# train_feat=[]\n",
        "# train_label=[]\n",
        "\n",
        "# for wav in tqdm(train_files):\n",
        "\n",
        "#   train_feat.append(extract_feature(wav))\n",
        "#   train_label.append(get_label(wav))"
      ]
    },
    {
      "cell_type": "code",
      "execution_count": 151,
      "metadata": {},
      "outputs": [
        {
          "name": "stderr",
          "output_type": "stream",
          "text": [
            "  0%|          | 0/4372 [00:00<?, ?it/s]"
          ]
        },
        {
          "name": "stderr",
          "output_type": "stream",
          "text": [
            "100%|██████████| 4372/4372 [15:21<00:00,  4.74it/s]"
          ]
        },
        {
          "name": "stdout",
          "output_type": "stream",
          "text": [
            "Len of train feat:  12574\n",
            "len of train label:  12574\n"
          ]
        },
        {
          "name": "stderr",
          "output_type": "stream",
          "text": [
            "\n"
          ]
        }
      ],
      "source": [
        "\n",
        "#First we obtain the list of all files in the train_clean directory\n",
        "train_files = glob('/Users/zilaiwang/Documents/214-proj/W24_ECE_M214A_Project/project_data/train_clean/*.wav')\n",
        "\n",
        "\n",
        "train_files.sort()\n",
        "\n",
        "train_feat=[]\n",
        "train_label=[]\n",
        "\n",
        "# for wav in tqdm(train_files):\n",
        "#   temp = extract_feature(wav)\n",
        "#   #print(temp) \n",
        "#   train_feat.append(temp)\n",
        "#   train_label.append(get_label(wav))\n",
        "\n",
        "n_augmentations = 2  # Number of additional augmentations to append\n",
        "for wav in tqdm(train_files):\n",
        "  label = get_label(wav)\n",
        "  original_feat, augmented_feat = extract_feature(wav)\n",
        "  #original_feat = extract_feature(wav)\n",
        "  \n",
        "  #print(temp) \n",
        "  # print(original_feat)\n",
        "  # print(augmented_feat)\n",
        "\n",
        "  train_feat.append(original_feat)\n",
        "  train_label.append(label)\n",
        "  if augmented_feat is not None and (label==1 or label == 4):# 1 for LES\n",
        "  #if augmented_feat is not None and (label) :# 1 for LES\n",
        "      train_label.append(label) \n",
        "      train_feat.append(augmented_feat)\n",
        "      # if(label!=2):\n",
        "      #   # Append additional augmentations if required\n",
        "      #   for _ in range(n_augmentations):\n",
        "      #         __, additional_augmented_feat = extract_feature(wav, augment=True)\n",
        "      #         train_feat.append(additional_augmented_feat)\n",
        "      #         train_label.append(label)\n",
        "  # elif augmented_feat is not None and (label==4):\n",
        "  #     train_label.append(label) \n",
        "  #     train_feat.append(augmented_feat)\n",
        "\n",
        "print(\"Len of train feat: \",len(train_feat))\n",
        "print(\"len of train label: \",len(train_label))\n",
        "# print(ROC,\n",
        "# LES,\n",
        "# PRV,\n",
        "# DC,\n",
        "# VLD)\n"
      ]
    },
    {
      "cell_type": "code",
      "execution_count": 152,
      "metadata": {
        "colab": {
          "base_uri": "https://localhost:8080/"
        },
        "id": "UkyzBSo-bwOo",
        "outputId": "ee091eba-781b-430b-d9b8-c84c2d08c98f"
      },
      "outputs": [
        {
          "name": "stderr",
          "output_type": "stream",
          "text": [
            "  0%|          | 0/447 [00:00<?, ?it/s]"
          ]
        },
        {
          "name": "stderr",
          "output_type": "stream",
          "text": [
            "100%|██████████| 447/447 [00:23<00:00, 18.72it/s]\n"
          ]
        }
      ],
      "source": [
        "#Now we obtain the list of all files in the test_clean directory\n",
        "test_clean_files = glob('/Users/zilaiwang/Documents/214-proj/W24_ECE_M214A_Project/project_data/test_clean/*.wav')\n",
        "\n",
        "#Similar to above, we sort the files\n",
        "test_clean_files.sort()\n",
        "\n",
        "test_clean_feat=[]\n",
        "test_clean_label=[]\n",
        "\n",
        "for wav in tqdm(test_clean_files):\n",
        "\n",
        "  test_clean_feat.append(extract_feature(wav,augment = False))\n",
        "  test_clean_label.append(get_label(wav))"
      ]
    },
    {
      "cell_type": "code",
      "execution_count": 153,
      "metadata": {
        "colab": {
          "base_uri": "https://localhost:8080/"
        },
        "id": "pP6-pNDQbxLU",
        "outputId": "1e6f8442-fa16-4f14-d074-450482eec203"
      },
      "outputs": [
        {
          "name": "stderr",
          "output_type": "stream",
          "text": [
            "100%|██████████| 347/347 [00:20<00:00, 16.57it/s]\n"
          ]
        }
      ],
      "source": [
        "#Finally we obtain the list of all files in the test_noisy directory\n",
        "test_noisy_files = glob('/Users/zilaiwang/Documents/214-proj/W24_ECE_M214A_Project/project_data/test_noisy/*.wav')\n",
        "\n",
        "#Similar to above, we sort the files\n",
        "test_noisy_files.sort()\n",
        "\n",
        "test_noisy_feat=[]\n",
        "test_noisy_label=[]\n",
        "\n",
        "for wav in tqdm(test_noisy_files):\n",
        "\n",
        "  test_noisy_feat.append(extract_feature(wav,augment= False))\n",
        "  test_noisy_label.append(get_label(wav))"
      ]
    },
    {
      "cell_type": "markdown",
      "metadata": {
        "id": "Pw2ju2S9oUD-"
      },
      "source": [
        "## 4. Model Training and Predictions"
      ]
    },
    {
      "cell_type": "markdown",
      "metadata": {
        "id": "ssNxb69kMSCg"
      },
      "source": [
        "Now we'll train the backend system to predict the regions from the input features.  We'll use an xgboosted decision tree for this.  An advantage of this model is that we can also parse the decision tree and measure the impact of different features in the end result for explainability"
      ]
    },
    {
      "cell_type": "code",
      "execution_count": 154,
      "metadata": {
        "colab": {
          "base_uri": "https://localhost:8080/"
        },
        "id": "FdlSdywtJ0jm",
        "outputId": "dacad593-bf0c-447a-bffe-89424a8d2a85"
      },
      "outputs": [
        {
          "name": "stdout",
          "output_type": "stream",
          "text": [
            "Train Clean Acc = 0.9978527119452839\n",
            "Test Clean Acc = 0.7785234899328859\n",
            "Test Noisy Acc = 0.5994236311239193\n"
          ]
        }
      ],
      "source": [
        "import xgboost\n",
        "import numpy as np\n",
        "import shap\n",
        "import pandas as pd\n",
        "\n",
        "#Format input data\n",
        "\n",
        "#Edit this variable to create a list that contains your feature names\n",
        "feat_names=['mfcc_' +str(n) for n in range(len(train_feat[0]))]\n",
        "\n",
        "train_feat_df = pd.DataFrame(data=np.stack(train_feat), columns=feat_names)\n",
        "y_train=np.stack(train_label)\n",
        "\n",
        "\n",
        "test_clean_feat_df = pd.DataFrame(data=np.stack(test_clean_feat), columns=feat_names)\n",
        "y_test_clean=np.stack(test_clean_label)\n",
        "\n",
        "\n",
        "test_noisy_feat_df = pd.DataFrame(data=np.stack(test_noisy_feat), columns=feat_names)\n",
        "y_test_noisy=np.stack(test_noisy_label)\n",
        "\n",
        "\n",
        "#you could just pass in the matrix of features to xgboost\n",
        "#but it looks prettier in the shap explainer if you format it\n",
        "#as a dataframe.\n",
        "\n",
        "\n",
        "model = xgboost.XGBClassifier()\n",
        "model.fit(train_feat_df,y_train)\n",
        "\n",
        "print(\"Train Clean Acc =\", np.sum(y_train==model.predict(train_feat_df))/len(y_train))\n",
        "\n",
        "print(\"Test Clean Acc =\", np.sum(y_test_clean==model.predict(test_clean_feat_df))/len(y_test_clean))\n",
        "\n",
        "print(\"Test Noisy Acc =\", np.sum(y_test_noisy==model.predict(test_noisy_feat_df))/len(y_test_noisy))\n"
      ]
    },
    {
      "cell_type": "markdown",
      "metadata": {
        "id": "EU1Zv35-Xdfh"
      },
      "source": [
        "To save a dataframe of features, uncomment and run the following block of code"
      ]
    },
    {
      "cell_type": "code",
      "execution_count": 155,
      "metadata": {
        "id": "zVCxaJuqXj8S"
      },
      "outputs": [],
      "source": [
        "# train_feat_df.to_csv('drive/MyDrive/current_features.csv')"
      ]
    },
    {
      "cell_type": "markdown",
      "metadata": {
        "id": "sS7zsBisXwgt"
      },
      "source": [
        "To Load a preexisting dataframe of features (saved from a previous notebook), run the following cell and then train the model"
      ]
    },
    {
      "cell_type": "code",
      "execution_count": 156,
      "metadata": {
        "id": "AzXTGihBX8Py"
      },
      "outputs": [],
      "source": [
        "# train_feat_df = pd.read_csv('drive/MyDrive/myfeat_train.csv')\n",
        "# test_clean_feat_df = pd.read_csv('drive/MyDrive/myfeat_test_clean.csv')\n",
        "# test_noisy_feat_df = pd.read_csv('drive/MyDrive/myfeat_test_noisy.csv')"
      ]
    },
    {
      "cell_type": "markdown",
      "metadata": {
        "id": "2-E5w5FsoeLK"
      },
      "source": [
        "## 5. Interpreting Results and Explainability"
      ]
    },
    {
      "cell_type": "markdown",
      "metadata": {
        "id": "x11o8qaNfSYT"
      },
      "source": [
        "To see the impact different features have on the model, we create a plot of the feature importances. The features are listed top to bottom in order of how important they were to the decision."
      ]
    },
    {
      "cell_type": "code",
      "execution_count": 157,
      "metadata": {
        "colab": {
          "base_uri": "https://localhost:8080/",
          "height": 676
        },
        "id": "f7aXxyyBeLkE",
        "outputId": "f1cb6bb4-1fe6-49b4-fdb8-420529e8c849"
      },
      "outputs": [
        {
          "data": {
            "image/png": "[encoded data removed]",
            "text/plain": [
              "<Figure size 800x670 with 1 Axes>"
            ]
          },
          "metadata": {},
          "output_type": "display_data"
        }
      ],
      "source": [
        "explainer = shap.TreeExplainer(model)\n",
        "shap_values = explainer.shap_values(train_feat_df)\n",
        "shap.summary_plot(shap_values, train_feat_df)"
      ]
    },
    {
      "cell_type": "markdown",
      "metadata": {
        "id": "KlzXmcA-fd7x"
      },
      "source": [
        "And we can see a confusion matrix of the mispredictions"
      ]
    },
    {
      "cell_type": "code",
      "execution_count": 158,
      "metadata": {
        "colab": {
          "base_uri": "https://localhost:8080/",
          "height": 449
        },
        "id": "e5xFg3P2fqj_",
        "outputId": "23bae52e-8fcc-4f47-db9d-ee153afeaa05"
      },
      "outputs": [
        {
          "data": {
            "image/png": "[encoded data removed]",
            "text/plain": [
              "<Figure size 640x480 with 2 Axes>"
            ]
          },
          "metadata": {},
          "output_type": "display_data"
        }
      ],
      "source": [
        "from sklearn import metrics\n",
        "import matplotlib.pyplot as plt\n",
        "\n",
        "confusion_matrix_clean = metrics.confusion_matrix(y_test_clean, model.predict(test_clean_feat_df))\n",
        "cm_display = metrics.ConfusionMatrixDisplay(confusion_matrix = confusion_matrix_clean, display_labels = ['ROC','LES','DCB','PRV','VLD'])\n",
        "cm_display.plot()\n",
        "plt.show()"
      ]
    },
    {
      "cell_type": "code",
      "execution_count": 159,
      "metadata": {
        "colab": {
          "base_uri": "https://localhost:8080/",
          "height": 449
        },
        "id": "K5S3VgD4TXQe",
        "outputId": "d7e7f535-8fd8-4f98-fac9-bd75182c083f"
      },
      "outputs": [
        {
          "data": {
            "image/png": "[encoded data removed]",
            "text/plain": [
              "<Figure size 640x480 with 2 Axes>"
            ]
          },
          "metadata": {},
          "output_type": "display_data"
        }
      ],
      "source": [
        "\n",
        "confusion_matrix_noisy = metrics.confusion_matrix(y_test_noisy, model.predict(test_noisy_feat_df))\n",
        "cm_display = metrics.ConfusionMatrixDisplay(confusion_matrix = confusion_matrix_noisy, display_labels = ['ROC','LES','DCB','PRV','VLD'])\n",
        "cm_display.plot()\n",
        "plt.show()"
      ]
    }
  ],
  "metadata": {
    "colab": {
      "provenance": []
    },
    "kernelspec": {
      "display_name": "Python 3",
      "name": "python3"
    },
    "language_info": {
      "codemirror_mode": {
        "name": "ipython",
        "version": 3
      },
      "file_extension": ".py",
      "mimetype": "text/x-python",
      "name": "python",
      "nbconvert_exporter": "python",
      "pygments_lexer": "ipython3",
      "version": "3.11.5"
    }
  },
  "nbformat": 4,
  "nbformat_minor": 0
}
